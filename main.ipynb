{
 "cells": [
  {
   "cell_type": "code",
   "execution_count": 165,
   "id": "initial_id",
   "metadata": {
    "collapsed": true,
    "ExecuteTime": {
     "end_time": "2024-01-11T00:47:06.991356433Z",
     "start_time": "2024-01-11T00:47:06.856016374Z"
    }
   },
   "outputs": [],
   "source": [
    "from pandas import DataFrame, read_csv"
   ]
  },
  {
   "cell_type": "code",
   "execution_count": 166,
   "outputs": [],
   "source": [
    "columns = {\n",
    "    'HORA': 'checktime',  # date and time\n",
    "    'FECHA': 'date',  # date\n",
    "    'TARJETA': 'dni',  # identification number\n",
    "    'Nombre': 'name',  # name\n",
    "}"
   ],
   "metadata": {
    "collapsed": false,
    "ExecuteTime": {
     "end_time": "2024-01-11T00:47:07.271925977Z",
     "start_time": "2024-01-11T00:47:06.997840545Z"
    }
   },
   "id": "5ff8994d5f5cb961"
  },
  {
   "cell_type": "code",
   "execution_count": 167,
   "outputs": [],
   "source": [
    "# use encoding for spanish characters: \n",
    "# only read the columns we need\n",
    "# and format the date and time columns as dates\n",
    "df = read_csv('ATTLOG.csv', dtype=str, encoding='latin-1', usecols=columns.keys(), parse_dates=['HORA', 'FECHA'],\n",
    "              dayfirst=True)"
   ],
   "metadata": {
    "collapsed": false,
    "ExecuteTime": {
     "end_time": "2024-01-11T00:47:07.362476397Z",
     "start_time": "2024-01-11T00:47:07.224724367Z"
    }
   },
   "id": "5858e5a9258a1b60"
  },
  {
   "cell_type": "code",
   "execution_count": 168,
   "outputs": [],
   "source": [
    "# rename the columns\n",
    "df.rename(columns=columns, inplace=True)"
   ],
   "metadata": {
    "collapsed": false,
    "ExecuteTime": {
     "end_time": "2024-01-11T00:47:07.421791537Z",
     "start_time": "2024-01-11T00:47:07.330655517Z"
    }
   },
   "id": "d31bcb93e3a57ed8"
  },
  {
   "cell_type": "code",
   "execution_count": 169,
   "outputs": [
    {
     "name": "stdout",
     "output_type": "stream",
     "text": [
      "<class 'pandas.core.frame.DataFrame'>\n",
      "RangeIndex: 16756 entries, 0 to 16755\n",
      "Data columns (total 4 columns):\n",
      " #   Column     Non-Null Count  Dtype         \n",
      "---  ------     --------------  -----         \n",
      " 0   checktime  16756 non-null  object        \n",
      " 1   date       16756 non-null  datetime64[ns]\n",
      " 2   name       16756 non-null  object        \n",
      " 3   dni        16756 non-null  object        \n",
      "dtypes: datetime64[ns](1), object(3)\n",
      "memory usage: 523.8+ KB\n"
     ]
    }
   ],
   "source": [
    "df.info()"
   ],
   "metadata": {
    "collapsed": false,
    "ExecuteTime": {
     "end_time": "2024-01-11T00:47:07.498757234Z",
     "start_time": "2024-01-11T00:47:07.405183767Z"
    }
   },
   "id": "ad746b0200ca2921"
  },
  {
   "cell_type": "code",
   "execution_count": 170,
   "outputs": [
    {
     "data": {
      "text/plain": "               checktime       date                      name       dni\n0  28/10/2022 12:32 p.m. 2022-10-28                  48284572  48284572\n1  09/11/2022 12:35 p.m. 2022-11-09                  41303173  41303173\n2  09/11/2022 12:41 p.m. 2022-11-09  Espejo Paz, Paul Jhonnat  42371480\n3  09/11/2022 01:04 p.m. 2022-11-09                  41303173  41303173\n4  11/11/2022 10:47 a.m. 2022-11-11                  48284572  48284572",
      "text/html": "<div>\n<style scoped>\n    .dataframe tbody tr th:only-of-type {\n        vertical-align: middle;\n    }\n\n    .dataframe tbody tr th {\n        vertical-align: top;\n    }\n\n    .dataframe thead th {\n        text-align: right;\n    }\n</style>\n<table border=\"1\" class=\"dataframe\">\n  <thead>\n    <tr style=\"text-align: right;\">\n      <th></th>\n      <th>checktime</th>\n      <th>date</th>\n      <th>name</th>\n      <th>dni</th>\n    </tr>\n  </thead>\n  <tbody>\n    <tr>\n      <th>0</th>\n      <td>28/10/2022 12:32 p.m.</td>\n      <td>2022-10-28</td>\n      <td>48284572</td>\n      <td>48284572</td>\n    </tr>\n    <tr>\n      <th>1</th>\n      <td>09/11/2022 12:35 p.m.</td>\n      <td>2022-11-09</td>\n      <td>41303173</td>\n      <td>41303173</td>\n    </tr>\n    <tr>\n      <th>2</th>\n      <td>09/11/2022 12:41 p.m.</td>\n      <td>2022-11-09</td>\n      <td>Espejo Paz, Paul Jhonnat</td>\n      <td>42371480</td>\n    </tr>\n    <tr>\n      <th>3</th>\n      <td>09/11/2022 01:04 p.m.</td>\n      <td>2022-11-09</td>\n      <td>41303173</td>\n      <td>41303173</td>\n    </tr>\n    <tr>\n      <th>4</th>\n      <td>11/11/2022 10:47 a.m.</td>\n      <td>2022-11-11</td>\n      <td>48284572</td>\n      <td>48284572</td>\n    </tr>\n  </tbody>\n</table>\n</div>"
     },
     "execution_count": 170,
     "metadata": {},
     "output_type": "execute_result"
    }
   ],
   "source": [
    "df.head()"
   ],
   "metadata": {
    "collapsed": false,
    "ExecuteTime": {
     "end_time": "2024-01-11T00:47:07.565380938Z",
     "start_time": "2024-01-11T00:47:07.486743541Z"
    }
   },
   "id": "b1ffed7d89118b8"
  },
  {
   "cell_type": "code",
   "execution_count": 171,
   "outputs": [],
   "source": [
    "# remove the rows with missing values\n",
    "df.dropna(inplace=True)"
   ],
   "metadata": {
    "collapsed": false,
    "ExecuteTime": {
     "end_time": "2024-01-11T00:47:07.640055577Z",
     "start_time": "2024-01-11T00:47:07.509065298Z"
    }
   },
   "id": "eecebd0fe9ff045b"
  },
  {
   "cell_type": "code",
   "execution_count": 172,
   "outputs": [],
   "source": [
    "# fix 'dni' column\n",
    "# must be 8 characters long\n",
    "# if has less than 8 characters, add zeros at the beginning\n",
    "df['dni'] = df['dni'].apply(lambda x: x.zfill(8))"
   ],
   "metadata": {
    "collapsed": false,
    "ExecuteTime": {
     "end_time": "2024-01-11T00:47:07.681570084Z",
     "start_time": "2024-01-11T00:47:07.601496633Z"
    }
   },
   "id": "64c8875eb5f379b4"
  },
  {
   "cell_type": "code",
   "execution_count": 173,
   "outputs": [
    {
     "name": "stdout",
     "output_type": "stream",
     "text": [
      "<class 'pandas.core.frame.DataFrame'>\n",
      "RangeIndex: 16756 entries, 0 to 16755\n",
      "Data columns (total 4 columns):\n",
      " #   Column     Non-Null Count  Dtype         \n",
      "---  ------     --------------  -----         \n",
      " 0   checktime  16756 non-null  object        \n",
      " 1   date       16756 non-null  datetime64[ns]\n",
      " 2   name       16756 non-null  object        \n",
      " 3   dni        16756 non-null  object        \n",
      "dtypes: datetime64[ns](1), object(3)\n",
      "memory usage: 523.8+ KB\n"
     ]
    }
   ],
   "source": [
    "df.info()"
   ],
   "metadata": {
    "collapsed": false,
    "ExecuteTime": {
     "end_time": "2024-01-11T00:47:07.859842423Z",
     "start_time": "2024-01-11T00:47:07.683875660Z"
    }
   },
   "id": "19625e2f78c8400f"
  },
  {
   "cell_type": "code",
   "execution_count": 174,
   "outputs": [
    {
     "data": {
      "text/plain": "               checktime       date                      name       dni\n0  28/10/2022 12:32 p.m. 2022-10-28                  48284572  48284572\n1  09/11/2022 12:35 p.m. 2022-11-09                  41303173  41303173\n2  09/11/2022 12:41 p.m. 2022-11-09  Espejo Paz, Paul Jhonnat  42371480\n3  09/11/2022 01:04 p.m. 2022-11-09                  41303173  41303173\n4  11/11/2022 10:47 a.m. 2022-11-11                  48284572  48284572",
      "text/html": "<div>\n<style scoped>\n    .dataframe tbody tr th:only-of-type {\n        vertical-align: middle;\n    }\n\n    .dataframe tbody tr th {\n        vertical-align: top;\n    }\n\n    .dataframe thead th {\n        text-align: right;\n    }\n</style>\n<table border=\"1\" class=\"dataframe\">\n  <thead>\n    <tr style=\"text-align: right;\">\n      <th></th>\n      <th>checktime</th>\n      <th>date</th>\n      <th>name</th>\n      <th>dni</th>\n    </tr>\n  </thead>\n  <tbody>\n    <tr>\n      <th>0</th>\n      <td>28/10/2022 12:32 p.m.</td>\n      <td>2022-10-28</td>\n      <td>48284572</td>\n      <td>48284572</td>\n    </tr>\n    <tr>\n      <th>1</th>\n      <td>09/11/2022 12:35 p.m.</td>\n      <td>2022-11-09</td>\n      <td>41303173</td>\n      <td>41303173</td>\n    </tr>\n    <tr>\n      <th>2</th>\n      <td>09/11/2022 12:41 p.m.</td>\n      <td>2022-11-09</td>\n      <td>Espejo Paz, Paul Jhonnat</td>\n      <td>42371480</td>\n    </tr>\n    <tr>\n      <th>3</th>\n      <td>09/11/2022 01:04 p.m.</td>\n      <td>2022-11-09</td>\n      <td>41303173</td>\n      <td>41303173</td>\n    </tr>\n    <tr>\n      <th>4</th>\n      <td>11/11/2022 10:47 a.m.</td>\n      <td>2022-11-11</td>\n      <td>48284572</td>\n      <td>48284572</td>\n    </tr>\n  </tbody>\n</table>\n</div>"
     },
     "execution_count": 174,
     "metadata": {},
     "output_type": "execute_result"
    }
   ],
   "source": [
    "df.head()"
   ],
   "metadata": {
    "collapsed": false,
    "ExecuteTime": {
     "end_time": "2024-01-11T00:47:07.922148477Z",
     "start_time": "2024-01-11T00:47:07.814831581Z"
    }
   },
   "id": "92c40588044f4c44"
  },
  {
   "cell_type": "code",
   "execution_count": 175,
   "outputs": [],
   "source": [
    "from datetime import datetime\n",
    "\n",
    "# define date range: from last december to this month\n",
    "start_date = datetime(2023, 12, 1)\n",
    "end_date = datetime.now()"
   ],
   "metadata": {
    "collapsed": false,
    "ExecuteTime": {
     "end_time": "2024-01-11T00:47:08.001837666Z",
     "start_time": "2024-01-11T00:47:07.875816910Z"
    }
   },
   "id": "b18394a485a45b37"
  },
  {
   "cell_type": "code",
   "execution_count": 176,
   "outputs": [],
   "source": [
    "# filter the dataframe by date range\n",
    "df = df[(df['date'] >= start_date) & (df['date'] <= end_date)]"
   ],
   "metadata": {
    "collapsed": false,
    "ExecuteTime": {
     "end_time": "2024-01-11T00:47:08.127157392Z",
     "start_time": "2024-01-11T00:47:07.976698069Z"
    }
   },
   "id": "56c88046c0dcc3d5"
  },
  {
   "cell_type": "code",
   "execution_count": 177,
   "outputs": [
    {
     "name": "stdout",
     "output_type": "stream",
     "text": [
      "<class 'pandas.core.frame.DataFrame'>\n",
      "Index: 1573 entries, 15183 to 16755\n",
      "Data columns (total 4 columns):\n",
      " #   Column     Non-Null Count  Dtype         \n",
      "---  ------     --------------  -----         \n",
      " 0   checktime  1573 non-null   object        \n",
      " 1   date       1573 non-null   datetime64[ns]\n",
      " 2   name       1573 non-null   object        \n",
      " 3   dni        1573 non-null   object        \n",
      "dtypes: datetime64[ns](1), object(3)\n",
      "memory usage: 61.4+ KB\n"
     ]
    }
   ],
   "source": [
    "df.info()"
   ],
   "metadata": {
    "collapsed": false,
    "ExecuteTime": {
     "end_time": "2024-01-11T00:47:08.223159892Z",
     "start_time": "2024-01-11T00:47:08.088318341Z"
    }
   },
   "id": "2904ebc08655d268"
  },
  {
   "cell_type": "code",
   "execution_count": 178,
   "outputs": [
    {
     "data": {
      "text/plain": "                   checktime       date                      name       dni\n15183  01/12/2023 06:12 a.m. 2023-12-01  Cachique Saldaña, Trinid  00080403\n15184  01/12/2023 08:20 a.m. 2023-12-01   Valdivia Novoa, Segundo  26646074\n15185  01/12/2023 09:03 a.m. 2023-12-01  Poma Vilca, Jimmy Christ  41011338\n15186  01/12/2023 09:06 a.m. 2023-12-01       Leon Gaspar, Evelyn  76753084\n15187  01/12/2023 09:20 a.m. 2023-12-01                  43084834  43084834",
      "text/html": "<div>\n<style scoped>\n    .dataframe tbody tr th:only-of-type {\n        vertical-align: middle;\n    }\n\n    .dataframe tbody tr th {\n        vertical-align: top;\n    }\n\n    .dataframe thead th {\n        text-align: right;\n    }\n</style>\n<table border=\"1\" class=\"dataframe\">\n  <thead>\n    <tr style=\"text-align: right;\">\n      <th></th>\n      <th>checktime</th>\n      <th>date</th>\n      <th>name</th>\n      <th>dni</th>\n    </tr>\n  </thead>\n  <tbody>\n    <tr>\n      <th>15183</th>\n      <td>01/12/2023 06:12 a.m.</td>\n      <td>2023-12-01</td>\n      <td>Cachique Saldaña, Trinid</td>\n      <td>00080403</td>\n    </tr>\n    <tr>\n      <th>15184</th>\n      <td>01/12/2023 08:20 a.m.</td>\n      <td>2023-12-01</td>\n      <td>Valdivia Novoa, Segundo</td>\n      <td>26646074</td>\n    </tr>\n    <tr>\n      <th>15185</th>\n      <td>01/12/2023 09:03 a.m.</td>\n      <td>2023-12-01</td>\n      <td>Poma Vilca, Jimmy Christ</td>\n      <td>41011338</td>\n    </tr>\n    <tr>\n      <th>15186</th>\n      <td>01/12/2023 09:06 a.m.</td>\n      <td>2023-12-01</td>\n      <td>Leon Gaspar, Evelyn</td>\n      <td>76753084</td>\n    </tr>\n    <tr>\n      <th>15187</th>\n      <td>01/12/2023 09:20 a.m.</td>\n      <td>2023-12-01</td>\n      <td>43084834</td>\n      <td>43084834</td>\n    </tr>\n  </tbody>\n</table>\n</div>"
     },
     "execution_count": 178,
     "metadata": {},
     "output_type": "execute_result"
    }
   ],
   "source": [
    "df.head()"
   ],
   "metadata": {
    "collapsed": false,
    "ExecuteTime": {
     "end_time": "2024-01-11T00:47:08.507288709Z",
     "start_time": "2024-01-11T00:47:08.211780658Z"
    }
   },
   "id": "238096e5642dbce0"
  },
  {
   "cell_type": "code",
   "execution_count": 179,
   "outputs": [],
   "source": [
    "# get only employees in dni list    \n",
    "dni_list = ['06927369', '40664656']"
   ],
   "metadata": {
    "collapsed": false,
    "ExecuteTime": {
     "end_time": "2024-01-11T00:47:08.638904913Z",
     "start_time": "2024-01-11T00:47:08.510247218Z"
    }
   },
   "id": "60c4768c5b7ab05c"
  },
  {
   "cell_type": "code",
   "execution_count": 180,
   "outputs": [],
   "source": [
    "df = df[df['dni'].isin(dni_list)]"
   ],
   "metadata": {
    "collapsed": false,
    "ExecuteTime": {
     "end_time": "2024-01-11T00:47:08.721286590Z",
     "start_time": "2024-01-11T00:47:08.629306296Z"
    }
   },
   "id": "feb3cb1ab1073356"
  },
  {
   "cell_type": "code",
   "execution_count": 181,
   "outputs": [
    {
     "name": "stdout",
     "output_type": "stream",
     "text": [
      "<class 'pandas.core.frame.DataFrame'>\n",
      "Index: 71 entries, 15241 to 16736\n",
      "Data columns (total 4 columns):\n",
      " #   Column     Non-Null Count  Dtype         \n",
      "---  ------     --------------  -----         \n",
      " 0   checktime  71 non-null     object        \n",
      " 1   date       71 non-null     datetime64[ns]\n",
      " 2   name       71 non-null     object        \n",
      " 3   dni        71 non-null     object        \n",
      "dtypes: datetime64[ns](1), object(3)\n",
      "memory usage: 2.8+ KB\n"
     ]
    }
   ],
   "source": [
    "df.info()"
   ],
   "metadata": {
    "collapsed": false,
    "ExecuteTime": {
     "end_time": "2024-01-11T00:47:08.882034312Z",
     "start_time": "2024-01-11T00:47:08.731933514Z"
    }
   },
   "id": "bc9fb9bfaeabb43"
  },
  {
   "cell_type": "code",
   "execution_count": 182,
   "outputs": [
    {
     "data": {
      "text/plain": "                   checktime       date                      name       dni\n15241  04/12/2023 03:20 p.m. 2023-12-04  Romero Leon, Maria Anton  06927369\n15273  04/12/2023 11:04 p.m. 2023-12-04  Romero Leon, Maria Anton  06927369\n15315  05/12/2023 03:19 p.m. 2023-12-05  Romero Leon, Maria Anton  06927369\n15346  05/12/2023 10:42 p.m. 2023-12-05  Romero Leon, Maria Anton  06927369\n15411  06/12/2023 10:56 p.m. 2023-12-06  Romero Leon, Maria Anton  06927369",
      "text/html": "<div>\n<style scoped>\n    .dataframe tbody tr th:only-of-type {\n        vertical-align: middle;\n    }\n\n    .dataframe tbody tr th {\n        vertical-align: top;\n    }\n\n    .dataframe thead th {\n        text-align: right;\n    }\n</style>\n<table border=\"1\" class=\"dataframe\">\n  <thead>\n    <tr style=\"text-align: right;\">\n      <th></th>\n      <th>checktime</th>\n      <th>date</th>\n      <th>name</th>\n      <th>dni</th>\n    </tr>\n  </thead>\n  <tbody>\n    <tr>\n      <th>15241</th>\n      <td>04/12/2023 03:20 p.m.</td>\n      <td>2023-12-04</td>\n      <td>Romero Leon, Maria Anton</td>\n      <td>06927369</td>\n    </tr>\n    <tr>\n      <th>15273</th>\n      <td>04/12/2023 11:04 p.m.</td>\n      <td>2023-12-04</td>\n      <td>Romero Leon, Maria Anton</td>\n      <td>06927369</td>\n    </tr>\n    <tr>\n      <th>15315</th>\n      <td>05/12/2023 03:19 p.m.</td>\n      <td>2023-12-05</td>\n      <td>Romero Leon, Maria Anton</td>\n      <td>06927369</td>\n    </tr>\n    <tr>\n      <th>15346</th>\n      <td>05/12/2023 10:42 p.m.</td>\n      <td>2023-12-05</td>\n      <td>Romero Leon, Maria Anton</td>\n      <td>06927369</td>\n    </tr>\n    <tr>\n      <th>15411</th>\n      <td>06/12/2023 10:56 p.m.</td>\n      <td>2023-12-06</td>\n      <td>Romero Leon, Maria Anton</td>\n      <td>06927369</td>\n    </tr>\n  </tbody>\n</table>\n</div>"
     },
     "execution_count": 182,
     "metadata": {},
     "output_type": "execute_result"
    }
   ],
   "source": [
    "df.head()"
   ],
   "metadata": {
    "collapsed": false,
    "ExecuteTime": {
     "end_time": "2024-01-11T00:47:08.998700040Z",
     "start_time": "2024-01-11T00:47:08.851126176Z"
    }
   },
   "id": "21c5f6fea9ca056b"
  },
  {
   "cell_type": "code",
   "execution_count": 183,
   "outputs": [],
   "source": [
    "# sort by dni and date ASC\n",
    "df.sort_values(['dni', 'date'], inplace=True)"
   ],
   "metadata": {
    "collapsed": false,
    "ExecuteTime": {
     "end_time": "2024-01-11T00:47:09.070546762Z",
     "start_time": "2024-01-11T00:47:08.919902781Z"
    }
   },
   "id": "7bae6eeccd5d322a"
  },
  {
   "cell_type": "code",
   "execution_count": 184,
   "outputs": [],
   "source": [
    "# create two new columns: checkin and checkout\n",
    "# donde checkin is the first checktime of the day\n",
    "# and checkout is the last checktime of the day\n",
    "# pero a veces el empleado no marca la salida y queda solo el checkin \n",
    "# por lo que el checkout seria null\n",
    "df['checkin'] = df.groupby(['dni', 'date'])['checktime'].transform('min')\n",
    "df['checkout'] = df.groupby(['dni', 'date'])['checktime'].transform('max')\n",
    "\n",
    "# si el checkout es igual al checkin, entonces el empleado no marco la salida\n",
    "# y el checkout es null\n",
    "df.loc[df['checkin'] == df['checkout'], 'checkout'] = None"
   ],
   "metadata": {
    "collapsed": false,
    "ExecuteTime": {
     "end_time": "2024-01-11T00:47:09.179864829Z",
     "start_time": "2024-01-11T00:47:09.037994346Z"
    }
   },
   "id": "1385612df69b9481"
  },
  {
   "cell_type": "code",
   "execution_count": 185,
   "outputs": [
    {
     "name": "stdout",
     "output_type": "stream",
     "text": [
      "<class 'pandas.core.frame.DataFrame'>\n",
      "Index: 71 entries, 15241 to 16726\n",
      "Data columns (total 6 columns):\n",
      " #   Column     Non-Null Count  Dtype         \n",
      "---  ------     --------------  -----         \n",
      " 0   checktime  71 non-null     object        \n",
      " 1   date       71 non-null     datetime64[ns]\n",
      " 2   name       71 non-null     object        \n",
      " 3   dni        71 non-null     object        \n",
      " 4   checkin    71 non-null     object        \n",
      " 5   checkout   66 non-null     object        \n",
      "dtypes: datetime64[ns](1), object(5)\n",
      "memory usage: 3.9+ KB\n"
     ]
    }
   ],
   "source": [
    "df.info()"
   ],
   "metadata": {
    "collapsed": false,
    "ExecuteTime": {
     "end_time": "2024-01-11T00:47:09.287052418Z",
     "start_time": "2024-01-11T00:47:09.126829085Z"
    }
   },
   "id": "dd12d7545587855c"
  },
  {
   "cell_type": "code",
   "execution_count": 186,
   "outputs": [
    {
     "data": {
      "text/plain": "                   checktime       date                      name       dni  \\\n15241  04/12/2023 03:20 p.m. 2023-12-04  Romero Leon, Maria Anton  06927369   \n15273  04/12/2023 11:04 p.m. 2023-12-04  Romero Leon, Maria Anton  06927369   \n15315  05/12/2023 03:19 p.m. 2023-12-05  Romero Leon, Maria Anton  06927369   \n15346  05/12/2023 10:42 p.m. 2023-12-05  Romero Leon, Maria Anton  06927369   \n15411  06/12/2023 10:56 p.m. 2023-12-06  Romero Leon, Maria Anton  06927369   \n\n                     checkin               checkout  \n15241  04/12/2023 03:20 p.m.  04/12/2023 11:04 p.m.  \n15273  04/12/2023 03:20 p.m.  04/12/2023 11:04 p.m.  \n15315  05/12/2023 03:19 p.m.  05/12/2023 10:42 p.m.  \n15346  05/12/2023 03:19 p.m.  05/12/2023 10:42 p.m.  \n15411  06/12/2023 10:56 p.m.                   None  ",
      "text/html": "<div>\n<style scoped>\n    .dataframe tbody tr th:only-of-type {\n        vertical-align: middle;\n    }\n\n    .dataframe tbody tr th {\n        vertical-align: top;\n    }\n\n    .dataframe thead th {\n        text-align: right;\n    }\n</style>\n<table border=\"1\" class=\"dataframe\">\n  <thead>\n    <tr style=\"text-align: right;\">\n      <th></th>\n      <th>checktime</th>\n      <th>date</th>\n      <th>name</th>\n      <th>dni</th>\n      <th>checkin</th>\n      <th>checkout</th>\n    </tr>\n  </thead>\n  <tbody>\n    <tr>\n      <th>15241</th>\n      <td>04/12/2023 03:20 p.m.</td>\n      <td>2023-12-04</td>\n      <td>Romero Leon, Maria Anton</td>\n      <td>06927369</td>\n      <td>04/12/2023 03:20 p.m.</td>\n      <td>04/12/2023 11:04 p.m.</td>\n    </tr>\n    <tr>\n      <th>15273</th>\n      <td>04/12/2023 11:04 p.m.</td>\n      <td>2023-12-04</td>\n      <td>Romero Leon, Maria Anton</td>\n      <td>06927369</td>\n      <td>04/12/2023 03:20 p.m.</td>\n      <td>04/12/2023 11:04 p.m.</td>\n    </tr>\n    <tr>\n      <th>15315</th>\n      <td>05/12/2023 03:19 p.m.</td>\n      <td>2023-12-05</td>\n      <td>Romero Leon, Maria Anton</td>\n      <td>06927369</td>\n      <td>05/12/2023 03:19 p.m.</td>\n      <td>05/12/2023 10:42 p.m.</td>\n    </tr>\n    <tr>\n      <th>15346</th>\n      <td>05/12/2023 10:42 p.m.</td>\n      <td>2023-12-05</td>\n      <td>Romero Leon, Maria Anton</td>\n      <td>06927369</td>\n      <td>05/12/2023 03:19 p.m.</td>\n      <td>05/12/2023 10:42 p.m.</td>\n    </tr>\n    <tr>\n      <th>15411</th>\n      <td>06/12/2023 10:56 p.m.</td>\n      <td>2023-12-06</td>\n      <td>Romero Leon, Maria Anton</td>\n      <td>06927369</td>\n      <td>06/12/2023 10:56 p.m.</td>\n      <td>None</td>\n    </tr>\n  </tbody>\n</table>\n</div>"
     },
     "execution_count": 186,
     "metadata": {},
     "output_type": "execute_result"
    }
   ],
   "source": [
    "df.head()"
   ],
   "metadata": {
    "collapsed": false,
    "ExecuteTime": {
     "end_time": "2024-01-11T00:47:09.446618730Z",
     "start_time": "2024-01-11T00:47:09.260227001Z"
    }
   },
   "id": "941afa3d2ff45f41"
  },
  {
   "cell_type": "code",
   "execution_count": 187,
   "outputs": [],
   "source": [
    "# como ya tenemos el checkin y checkout, podemos eliminar los duplicados basados en dni y date\n",
    "# ya que un empleado no puede marcar mas de una vez en el mismo dia\n",
    "df.drop_duplicates(['dni', 'date'], inplace=True)"
   ],
   "metadata": {
    "collapsed": false,
    "ExecuteTime": {
     "end_time": "2024-01-11T00:47:09.513855513Z",
     "start_time": "2024-01-11T00:47:09.411401237Z"
    }
   },
   "id": "a5cf66692102b11"
  },
  {
   "cell_type": "code",
   "execution_count": 188,
   "outputs": [
    {
     "name": "stdout",
     "output_type": "stream",
     "text": [
      "<class 'pandas.core.frame.DataFrame'>\n",
      "Index: 38 entries, 15241 to 16726\n",
      "Data columns (total 6 columns):\n",
      " #   Column     Non-Null Count  Dtype         \n",
      "---  ------     --------------  -----         \n",
      " 0   checktime  38 non-null     object        \n",
      " 1   date       38 non-null     datetime64[ns]\n",
      " 2   name       38 non-null     object        \n",
      " 3   dni        38 non-null     object        \n",
      " 4   checkin    38 non-null     object        \n",
      " 5   checkout   33 non-null     object        \n",
      "dtypes: datetime64[ns](1), object(5)\n",
      "memory usage: 2.1+ KB\n"
     ]
    }
   ],
   "source": [
    "df.info()"
   ],
   "metadata": {
    "collapsed": false,
    "ExecuteTime": {
     "end_time": "2024-01-11T00:47:09.637378628Z",
     "start_time": "2024-01-11T00:47:09.485140225Z"
    }
   },
   "id": "8602b85ca5ebe294"
  },
  {
   "cell_type": "code",
   "execution_count": 189,
   "outputs": [
    {
     "data": {
      "text/plain": "                   checktime       date                      name       dni  \\\n15241  04/12/2023 03:20 p.m. 2023-12-04  Romero Leon, Maria Anton  06927369   \n15315  05/12/2023 03:19 p.m. 2023-12-05  Romero Leon, Maria Anton  06927369   \n15411  06/12/2023 10:56 p.m. 2023-12-06  Romero Leon, Maria Anton  06927369   \n15483  11/12/2023 03:22 p.m. 2023-12-11  Romero Leon, Maria Anton  06927369   \n15556  12/12/2023 03:14 p.m. 2023-12-12  Romero Leon, Maria Anton  06927369   \n\n                     checkin               checkout  \n15241  04/12/2023 03:20 p.m.  04/12/2023 11:04 p.m.  \n15315  05/12/2023 03:19 p.m.  05/12/2023 10:42 p.m.  \n15411  06/12/2023 10:56 p.m.                   None  \n15483  11/12/2023 03:22 p.m.  11/12/2023 11:51 p.m.  \n15556  12/12/2023 03:14 p.m.  12/12/2023 11:42 p.m.  ",
      "text/html": "<div>\n<style scoped>\n    .dataframe tbody tr th:only-of-type {\n        vertical-align: middle;\n    }\n\n    .dataframe tbody tr th {\n        vertical-align: top;\n    }\n\n    .dataframe thead th {\n        text-align: right;\n    }\n</style>\n<table border=\"1\" class=\"dataframe\">\n  <thead>\n    <tr style=\"text-align: right;\">\n      <th></th>\n      <th>checktime</th>\n      <th>date</th>\n      <th>name</th>\n      <th>dni</th>\n      <th>checkin</th>\n      <th>checkout</th>\n    </tr>\n  </thead>\n  <tbody>\n    <tr>\n      <th>15241</th>\n      <td>04/12/2023 03:20 p.m.</td>\n      <td>2023-12-04</td>\n      <td>Romero Leon, Maria Anton</td>\n      <td>06927369</td>\n      <td>04/12/2023 03:20 p.m.</td>\n      <td>04/12/2023 11:04 p.m.</td>\n    </tr>\n    <tr>\n      <th>15315</th>\n      <td>05/12/2023 03:19 p.m.</td>\n      <td>2023-12-05</td>\n      <td>Romero Leon, Maria Anton</td>\n      <td>06927369</td>\n      <td>05/12/2023 03:19 p.m.</td>\n      <td>05/12/2023 10:42 p.m.</td>\n    </tr>\n    <tr>\n      <th>15411</th>\n      <td>06/12/2023 10:56 p.m.</td>\n      <td>2023-12-06</td>\n      <td>Romero Leon, Maria Anton</td>\n      <td>06927369</td>\n      <td>06/12/2023 10:56 p.m.</td>\n      <td>None</td>\n    </tr>\n    <tr>\n      <th>15483</th>\n      <td>11/12/2023 03:22 p.m.</td>\n      <td>2023-12-11</td>\n      <td>Romero Leon, Maria Anton</td>\n      <td>06927369</td>\n      <td>11/12/2023 03:22 p.m.</td>\n      <td>11/12/2023 11:51 p.m.</td>\n    </tr>\n    <tr>\n      <th>15556</th>\n      <td>12/12/2023 03:14 p.m.</td>\n      <td>2023-12-12</td>\n      <td>Romero Leon, Maria Anton</td>\n      <td>06927369</td>\n      <td>12/12/2023 03:14 p.m.</td>\n      <td>12/12/2023 11:42 p.m.</td>\n    </tr>\n  </tbody>\n</table>\n</div>"
     },
     "execution_count": 189,
     "metadata": {},
     "output_type": "execute_result"
    }
   ],
   "source": [
    "df.head()"
   ],
   "metadata": {
    "collapsed": false,
    "ExecuteTime": {
     "end_time": "2024-01-11T00:47:09.727328595Z",
     "start_time": "2024-01-11T00:47:09.582787954Z"
    }
   },
   "id": "1dbda517dec70478"
  },
  {
   "cell_type": "code",
   "execution_count": 190,
   "outputs": [],
   "source": [
    "# ahora podemos eliminar la columna checktime\n",
    "df.drop('checktime', axis=1, inplace=True)"
   ],
   "metadata": {
    "collapsed": false,
    "ExecuteTime": {
     "end_time": "2024-01-11T00:47:09.850560753Z",
     "start_time": "2024-01-11T00:47:09.675032956Z"
    }
   },
   "id": "10f80e49d8b2d7a3"
  },
  {
   "cell_type": "code",
   "execution_count": 191,
   "outputs": [
    {
     "name": "stdout",
     "output_type": "stream",
     "text": [
      "<class 'pandas.core.frame.DataFrame'>\n",
      "Index: 38 entries, 15241 to 16726\n",
      "Data columns (total 5 columns):\n",
      " #   Column    Non-Null Count  Dtype         \n",
      "---  ------    --------------  -----         \n",
      " 0   date      38 non-null     datetime64[ns]\n",
      " 1   name      38 non-null     object        \n",
      " 2   dni       38 non-null     object        \n",
      " 3   checkin   38 non-null     object        \n",
      " 4   checkout  33 non-null     object        \n",
      "dtypes: datetime64[ns](1), object(4)\n",
      "memory usage: 1.8+ KB\n"
     ]
    }
   ],
   "source": [
    "df.info()"
   ],
   "metadata": {
    "collapsed": false,
    "ExecuteTime": {
     "end_time": "2024-01-11T00:47:09.952037965Z",
     "start_time": "2024-01-11T00:47:09.860665140Z"
    }
   },
   "id": "7286969cb3b16224"
  },
  {
   "cell_type": "code",
   "execution_count": 192,
   "outputs": [
    {
     "data": {
      "text/plain": "            date                      name       dni                checkin  \\\n15241 2023-12-04  Romero Leon, Maria Anton  06927369  04/12/2023 03:20 p.m.   \n15315 2023-12-05  Romero Leon, Maria Anton  06927369  05/12/2023 03:19 p.m.   \n15411 2023-12-06  Romero Leon, Maria Anton  06927369  06/12/2023 10:56 p.m.   \n15483 2023-12-11  Romero Leon, Maria Anton  06927369  11/12/2023 03:22 p.m.   \n15556 2023-12-12  Romero Leon, Maria Anton  06927369  12/12/2023 03:14 p.m.   \n\n                    checkout  \n15241  04/12/2023 11:04 p.m.  \n15315  05/12/2023 10:42 p.m.  \n15411                   None  \n15483  11/12/2023 11:51 p.m.  \n15556  12/12/2023 11:42 p.m.  ",
      "text/html": "<div>\n<style scoped>\n    .dataframe tbody tr th:only-of-type {\n        vertical-align: middle;\n    }\n\n    .dataframe tbody tr th {\n        vertical-align: top;\n    }\n\n    .dataframe thead th {\n        text-align: right;\n    }\n</style>\n<table border=\"1\" class=\"dataframe\">\n  <thead>\n    <tr style=\"text-align: right;\">\n      <th></th>\n      <th>date</th>\n      <th>name</th>\n      <th>dni</th>\n      <th>checkin</th>\n      <th>checkout</th>\n    </tr>\n  </thead>\n  <tbody>\n    <tr>\n      <th>15241</th>\n      <td>2023-12-04</td>\n      <td>Romero Leon, Maria Anton</td>\n      <td>06927369</td>\n      <td>04/12/2023 03:20 p.m.</td>\n      <td>04/12/2023 11:04 p.m.</td>\n    </tr>\n    <tr>\n      <th>15315</th>\n      <td>2023-12-05</td>\n      <td>Romero Leon, Maria Anton</td>\n      <td>06927369</td>\n      <td>05/12/2023 03:19 p.m.</td>\n      <td>05/12/2023 10:42 p.m.</td>\n    </tr>\n    <tr>\n      <th>15411</th>\n      <td>2023-12-06</td>\n      <td>Romero Leon, Maria Anton</td>\n      <td>06927369</td>\n      <td>06/12/2023 10:56 p.m.</td>\n      <td>None</td>\n    </tr>\n    <tr>\n      <th>15483</th>\n      <td>2023-12-11</td>\n      <td>Romero Leon, Maria Anton</td>\n      <td>06927369</td>\n      <td>11/12/2023 03:22 p.m.</td>\n      <td>11/12/2023 11:51 p.m.</td>\n    </tr>\n    <tr>\n      <th>15556</th>\n      <td>2023-12-12</td>\n      <td>Romero Leon, Maria Anton</td>\n      <td>06927369</td>\n      <td>12/12/2023 03:14 p.m.</td>\n      <td>12/12/2023 11:42 p.m.</td>\n    </tr>\n  </tbody>\n</table>\n</div>"
     },
     "execution_count": 192,
     "metadata": {},
     "output_type": "execute_result"
    }
   ],
   "source": [
    "df.head()"
   ],
   "metadata": {
    "collapsed": false,
    "ExecuteTime": {
     "end_time": "2024-01-11T00:47:10.120220255Z",
     "start_time": "2024-01-11T00:47:09.910905429Z"
    }
   },
   "id": "65de583abac30a37"
  },
  {
   "cell_type": "code",
   "execution_count": 193,
   "outputs": [],
   "source": [
    "from pandas import NaT"
   ],
   "metadata": {
    "collapsed": false,
    "ExecuteTime": {
     "end_time": "2024-01-11T00:47:10.143331953Z",
     "start_time": "2024-01-11T00:47:10.053323728Z"
    }
   },
   "id": "53ca652dbd9536b3"
  },
  {
   "cell_type": "code",
   "execution_count": 194,
   "outputs": [
    {
     "name": "stdout",
     "output_type": "stream",
     "text": [
      "object\n"
     ]
    }
   ],
   "source": [
    "# check if 'checkin' and 'checkout' are datetime\n",
    "print(df['checkin'].dtype)\n",
    "# fill the missing values with NaT\n",
    "df['checkout'].fillna(NaT, inplace=True)"
   ],
   "metadata": {
    "collapsed": false,
    "ExecuteTime": {
     "end_time": "2024-01-11T00:47:10.267769144Z",
     "start_time": "2024-01-11T00:47:10.136046700Z"
    }
   },
   "id": "e8801697013f5ebb"
  },
  {
   "cell_type": "code",
   "execution_count": 195,
   "outputs": [
    {
     "name": "stderr",
     "output_type": "stream",
     "text": [
      "/tmp/ipykernel_10938/1161820117.py:2: UserWarning: Could not infer format, so each element will be parsed individually, falling back to `dateutil`. To ensure parsing is consistent and as-expected, please specify a format.\n",
      "  df['checkin'] = df['checkin'].astype('datetime64[ns]')\n",
      "/tmp/ipykernel_10938/1161820117.py:4: UserWarning: Could not infer format, so each element will be parsed individually, falling back to `dateutil`. To ensure parsing is consistent and as-expected, please specify a format.\n",
      "  df.loc[df['checkout'].notnull(), 'checkout'] = df.loc[df['checkout'].notnull(), 'checkout'].astype('datetime64[ns]')\n"
     ]
    }
   ],
   "source": [
    "# convert 'checkin' and 'checkout' to datetime\n",
    "df['checkin'] = df['checkin'].astype('datetime64[ns]')\n",
    "# checkout may be NaT, so we need to convert only if it is not NaT \n",
    "# entonces, usamos lambda para evitar el error\n",
    "df['checkout'] = df['checkout'].apply(lambda x: x.astype('datetime64[ns]') if x is not NaT else None)"
   ],
   "metadata": {
    "collapsed": false,
    "ExecuteTime": {
     "end_time": "2024-01-11T00:47:10.488946349Z",
     "start_time": "2024-01-11T00:47:10.225370991Z"
    }
   },
   "id": "dde80c6eea03ccd6"
  },
  {
   "cell_type": "code",
   "execution_count": 196,
   "outputs": [
    {
     "name": "stdout",
     "output_type": "stream",
     "text": [
      "<class 'pandas.core.frame.DataFrame'>\n",
      "Index: 38 entries, 15241 to 16726\n",
      "Data columns (total 5 columns):\n",
      " #   Column    Non-Null Count  Dtype         \n",
      "---  ------    --------------  -----         \n",
      " 0   date      38 non-null     datetime64[ns]\n",
      " 1   name      38 non-null     object        \n",
      " 2   dni       38 non-null     object        \n",
      " 3   checkin   38 non-null     datetime64[ns]\n",
      " 4   checkout  33 non-null     object        \n",
      "dtypes: datetime64[ns](2), object(3)\n",
      "memory usage: 1.8+ KB\n"
     ]
    }
   ],
   "source": [
    "df.info()"
   ],
   "metadata": {
    "collapsed": false,
    "ExecuteTime": {
     "end_time": "2024-01-11T00:47:10.554979416Z",
     "start_time": "2024-01-11T00:47:10.362792028Z"
    }
   },
   "id": "5a831b5dec482669"
  },
  {
   "cell_type": "code",
   "execution_count": 197,
   "outputs": [
    {
     "data": {
      "text/plain": "            date                      name       dni             checkin  \\\n15241 2023-12-04  Romero Leon, Maria Anton  06927369 2023-04-12 15:20:00   \n15315 2023-12-05  Romero Leon, Maria Anton  06927369 2023-05-12 15:19:00   \n15411 2023-12-06  Romero Leon, Maria Anton  06927369 2023-06-12 22:56:00   \n15483 2023-12-11  Romero Leon, Maria Anton  06927369 2023-11-12 15:22:00   \n15556 2023-12-12  Romero Leon, Maria Anton  06927369 2023-12-12 15:14:00   \n\n                  checkout  \n15241  2023-04-12 23:04:00  \n15315  2023-05-12 22:42:00  \n15411                  NaT  \n15483  2023-11-12 23:51:00  \n15556  2023-12-12 23:42:00  ",
      "text/html": "<div>\n<style scoped>\n    .dataframe tbody tr th:only-of-type {\n        vertical-align: middle;\n    }\n\n    .dataframe tbody tr th {\n        vertical-align: top;\n    }\n\n    .dataframe thead th {\n        text-align: right;\n    }\n</style>\n<table border=\"1\" class=\"dataframe\">\n  <thead>\n    <tr style=\"text-align: right;\">\n      <th></th>\n      <th>date</th>\n      <th>name</th>\n      <th>dni</th>\n      <th>checkin</th>\n      <th>checkout</th>\n    </tr>\n  </thead>\n  <tbody>\n    <tr>\n      <th>15241</th>\n      <td>2023-12-04</td>\n      <td>Romero Leon, Maria Anton</td>\n      <td>06927369</td>\n      <td>2023-04-12 15:20:00</td>\n      <td>2023-04-12 23:04:00</td>\n    </tr>\n    <tr>\n      <th>15315</th>\n      <td>2023-12-05</td>\n      <td>Romero Leon, Maria Anton</td>\n      <td>06927369</td>\n      <td>2023-05-12 15:19:00</td>\n      <td>2023-05-12 22:42:00</td>\n    </tr>\n    <tr>\n      <th>15411</th>\n      <td>2023-12-06</td>\n      <td>Romero Leon, Maria Anton</td>\n      <td>06927369</td>\n      <td>2023-06-12 22:56:00</td>\n      <td>NaT</td>\n    </tr>\n    <tr>\n      <th>15483</th>\n      <td>2023-12-11</td>\n      <td>Romero Leon, Maria Anton</td>\n      <td>06927369</td>\n      <td>2023-11-12 15:22:00</td>\n      <td>2023-11-12 23:51:00</td>\n    </tr>\n    <tr>\n      <th>15556</th>\n      <td>2023-12-12</td>\n      <td>Romero Leon, Maria Anton</td>\n      <td>06927369</td>\n      <td>2023-12-12 15:14:00</td>\n      <td>2023-12-12 23:42:00</td>\n    </tr>\n  </tbody>\n</table>\n</div>"
     },
     "execution_count": 197,
     "metadata": {},
     "output_type": "execute_result"
    }
   ],
   "source": [
    "df.head()"
   ],
   "metadata": {
    "collapsed": false,
    "ExecuteTime": {
     "end_time": "2024-01-11T00:47:10.730954456Z",
     "start_time": "2024-01-11T00:47:10.551849379Z"
    }
   },
   "id": "ce7bb93758bd4a4c"
  },
  {
   "cell_type": "code",
   "execution_count": 198,
   "outputs": [],
   "source": [
    "# create two columns: hour and minute representing the difference between checkin and checkout\n",
    "# como checkout puede ser null, entonces la diferencia seria null mejora usamos lambda para evitar el error\n",
    "df['hour'] = df.apply(lambda x: (x['checkout'] - x['checkin']).seconds // 3600 if x['checkout'] is not NaT else None, axis=1)\n",
    "df['minute'] = df.apply(lambda x: ((x['checkout'] - x['checkin']).seconds % 3600) // 60 if x['checkout'] is not NaT else None, axis=1)"
   ],
   "metadata": {
    "collapsed": false,
    "ExecuteTime": {
     "end_time": "2024-01-11T00:47:10.750012368Z",
     "start_time": "2024-01-11T00:47:10.688178054Z"
    }
   },
   "id": "add67a8baa3aa48"
  },
  {
   "cell_type": "code",
   "execution_count": 199,
   "outputs": [
    {
     "name": "stdout",
     "output_type": "stream",
     "text": [
      "<class 'pandas.core.frame.DataFrame'>\n",
      "Index: 38 entries, 15241 to 16726\n",
      "Data columns (total 7 columns):\n",
      " #   Column    Non-Null Count  Dtype         \n",
      "---  ------    --------------  -----         \n",
      " 0   date      38 non-null     datetime64[ns]\n",
      " 1   name      38 non-null     object        \n",
      " 2   dni       38 non-null     object        \n",
      " 3   checkin   38 non-null     datetime64[ns]\n",
      " 4   checkout  33 non-null     object        \n",
      " 5   hour      33 non-null     float64       \n",
      " 6   minute    33 non-null     float64       \n",
      "dtypes: datetime64[ns](2), float64(2), object(3)\n",
      "memory usage: 2.4+ KB\n"
     ]
    }
   ],
   "source": [
    "df.info()"
   ],
   "metadata": {
    "collapsed": false,
    "ExecuteTime": {
     "end_time": "2024-01-11T00:47:10.890863246Z",
     "start_time": "2024-01-11T00:47:10.762466516Z"
    }
   },
   "id": "7b0025fa217fdd8a"
  },
  {
   "cell_type": "code",
   "execution_count": 200,
   "outputs": [
    {
     "data": {
      "text/plain": "            date                      name       dni             checkin  \\\n15241 2023-12-04  Romero Leon, Maria Anton  06927369 2023-04-12 15:20:00   \n15315 2023-12-05  Romero Leon, Maria Anton  06927369 2023-05-12 15:19:00   \n15411 2023-12-06  Romero Leon, Maria Anton  06927369 2023-06-12 22:56:00   \n15483 2023-12-11  Romero Leon, Maria Anton  06927369 2023-11-12 15:22:00   \n15556 2023-12-12  Romero Leon, Maria Anton  06927369 2023-12-12 15:14:00   \n\n                  checkout  hour  minute  \n15241  2023-04-12 23:04:00   7.0    44.0  \n15315  2023-05-12 22:42:00   7.0    23.0  \n15411                  NaT   NaN     NaN  \n15483  2023-11-12 23:51:00   8.0    29.0  \n15556  2023-12-12 23:42:00   8.0    28.0  ",
      "text/html": "<div>\n<style scoped>\n    .dataframe tbody tr th:only-of-type {\n        vertical-align: middle;\n    }\n\n    .dataframe tbody tr th {\n        vertical-align: top;\n    }\n\n    .dataframe thead th {\n        text-align: right;\n    }\n</style>\n<table border=\"1\" class=\"dataframe\">\n  <thead>\n    <tr style=\"text-align: right;\">\n      <th></th>\n      <th>date</th>\n      <th>name</th>\n      <th>dni</th>\n      <th>checkin</th>\n      <th>checkout</th>\n      <th>hour</th>\n      <th>minute</th>\n    </tr>\n  </thead>\n  <tbody>\n    <tr>\n      <th>15241</th>\n      <td>2023-12-04</td>\n      <td>Romero Leon, Maria Anton</td>\n      <td>06927369</td>\n      <td>2023-04-12 15:20:00</td>\n      <td>2023-04-12 23:04:00</td>\n      <td>7.0</td>\n      <td>44.0</td>\n    </tr>\n    <tr>\n      <th>15315</th>\n      <td>2023-12-05</td>\n      <td>Romero Leon, Maria Anton</td>\n      <td>06927369</td>\n      <td>2023-05-12 15:19:00</td>\n      <td>2023-05-12 22:42:00</td>\n      <td>7.0</td>\n      <td>23.0</td>\n    </tr>\n    <tr>\n      <th>15411</th>\n      <td>2023-12-06</td>\n      <td>Romero Leon, Maria Anton</td>\n      <td>06927369</td>\n      <td>2023-06-12 22:56:00</td>\n      <td>NaT</td>\n      <td>NaN</td>\n      <td>NaN</td>\n    </tr>\n    <tr>\n      <th>15483</th>\n      <td>2023-12-11</td>\n      <td>Romero Leon, Maria Anton</td>\n      <td>06927369</td>\n      <td>2023-11-12 15:22:00</td>\n      <td>2023-11-12 23:51:00</td>\n      <td>8.0</td>\n      <td>29.0</td>\n    </tr>\n    <tr>\n      <th>15556</th>\n      <td>2023-12-12</td>\n      <td>Romero Leon, Maria Anton</td>\n      <td>06927369</td>\n      <td>2023-12-12 15:14:00</td>\n      <td>2023-12-12 23:42:00</td>\n      <td>8.0</td>\n      <td>28.0</td>\n    </tr>\n  </tbody>\n</table>\n</div>"
     },
     "execution_count": 200,
     "metadata": {},
     "output_type": "execute_result"
    }
   ],
   "source": [
    "df.head()"
   ],
   "metadata": {
    "collapsed": false,
    "ExecuteTime": {
     "end_time": "2024-01-11T00:47:11.096276813Z",
     "start_time": "2024-01-11T00:47:10.875278701Z"
    }
   },
   "id": "4f180b2e82ff73b"
  },
  {
   "cell_type": "code",
   "execution_count": 201,
   "outputs": [],
   "source": [
    "# queda formatear la fecha y hora\n",
    "# el formato para la fecha es: dd/mm/yyyy\n",
    "# el formato para la hora es: hh:mm:ss AM/PM\n",
    "# para el formato de la hora usamos lambda para evitar el error\n",
    "df['date'] = df['date'].apply(lambda x: x.strftime('%d/%m/%Y'))\n",
    "df['checkin'] = df['checkin'].apply(lambda x: x.strftime('%I:%M:%S %p') if x is not NaT else None)\n",
    "df['checkout'] = df['checkout'].apply(lambda x: x.strftime('%I:%M:%S %p') if x is not NaT else None)"
   ],
   "metadata": {
    "collapsed": false,
    "ExecuteTime": {
     "end_time": "2024-01-11T00:47:11.149989959Z",
     "start_time": "2024-01-11T00:47:10.998919264Z"
    }
   },
   "id": "38a493f7af0e1d26"
  },
  {
   "cell_type": "code",
   "execution_count": 202,
   "outputs": [
    {
     "name": "stdout",
     "output_type": "stream",
     "text": [
      "<class 'pandas.core.frame.DataFrame'>\n",
      "Index: 38 entries, 15241 to 16726\n",
      "Data columns (total 7 columns):\n",
      " #   Column    Non-Null Count  Dtype  \n",
      "---  ------    --------------  -----  \n",
      " 0   date      38 non-null     object \n",
      " 1   name      38 non-null     object \n",
      " 2   dni       38 non-null     object \n",
      " 3   checkin   38 non-null     object \n",
      " 4   checkout  33 non-null     object \n",
      " 5   hour      33 non-null     float64\n",
      " 6   minute    33 non-null     float64\n",
      "dtypes: float64(2), object(5)\n",
      "memory usage: 2.4+ KB\n"
     ]
    }
   ],
   "source": [
    "df.info()"
   ],
   "metadata": {
    "collapsed": false,
    "ExecuteTime": {
     "end_time": "2024-01-11T00:47:11.217063474Z",
     "start_time": "2024-01-11T00:47:11.126040977Z"
    }
   },
   "id": "c8c3d3e5240a88f0"
  },
  {
   "cell_type": "code",
   "execution_count": 203,
   "outputs": [
    {
     "data": {
      "text/plain": "             date                      name       dni      checkin  \\\n15241  04/12/2023  Romero Leon, Maria Anton  06927369  03:20:00 PM   \n15315  05/12/2023  Romero Leon, Maria Anton  06927369  03:19:00 PM   \n15411  06/12/2023  Romero Leon, Maria Anton  06927369  10:56:00 PM   \n15483  11/12/2023  Romero Leon, Maria Anton  06927369  03:22:00 PM   \n15556  12/12/2023  Romero Leon, Maria Anton  06927369  03:14:00 PM   \n\n          checkout  hour  minute  \n15241  11:04:00 PM   7.0    44.0  \n15315  10:42:00 PM   7.0    23.0  \n15411         None   NaN     NaN  \n15483  11:51:00 PM   8.0    29.0  \n15556  11:42:00 PM   8.0    28.0  ",
      "text/html": "<div>\n<style scoped>\n    .dataframe tbody tr th:only-of-type {\n        vertical-align: middle;\n    }\n\n    .dataframe tbody tr th {\n        vertical-align: top;\n    }\n\n    .dataframe thead th {\n        text-align: right;\n    }\n</style>\n<table border=\"1\" class=\"dataframe\">\n  <thead>\n    <tr style=\"text-align: right;\">\n      <th></th>\n      <th>date</th>\n      <th>name</th>\n      <th>dni</th>\n      <th>checkin</th>\n      <th>checkout</th>\n      <th>hour</th>\n      <th>minute</th>\n    </tr>\n  </thead>\n  <tbody>\n    <tr>\n      <th>15241</th>\n      <td>04/12/2023</td>\n      <td>Romero Leon, Maria Anton</td>\n      <td>06927369</td>\n      <td>03:20:00 PM</td>\n      <td>11:04:00 PM</td>\n      <td>7.0</td>\n      <td>44.0</td>\n    </tr>\n    <tr>\n      <th>15315</th>\n      <td>05/12/2023</td>\n      <td>Romero Leon, Maria Anton</td>\n      <td>06927369</td>\n      <td>03:19:00 PM</td>\n      <td>10:42:00 PM</td>\n      <td>7.0</td>\n      <td>23.0</td>\n    </tr>\n    <tr>\n      <th>15411</th>\n      <td>06/12/2023</td>\n      <td>Romero Leon, Maria Anton</td>\n      <td>06927369</td>\n      <td>10:56:00 PM</td>\n      <td>None</td>\n      <td>NaN</td>\n      <td>NaN</td>\n    </tr>\n    <tr>\n      <th>15483</th>\n      <td>11/12/2023</td>\n      <td>Romero Leon, Maria Anton</td>\n      <td>06927369</td>\n      <td>03:22:00 PM</td>\n      <td>11:51:00 PM</td>\n      <td>8.0</td>\n      <td>29.0</td>\n    </tr>\n    <tr>\n      <th>15556</th>\n      <td>12/12/2023</td>\n      <td>Romero Leon, Maria Anton</td>\n      <td>06927369</td>\n      <td>03:14:00 PM</td>\n      <td>11:42:00 PM</td>\n      <td>8.0</td>\n      <td>28.0</td>\n    </tr>\n  </tbody>\n</table>\n</div>"
     },
     "execution_count": 203,
     "metadata": {},
     "output_type": "execute_result"
    }
   ],
   "source": [
    "df.head()"
   ],
   "metadata": {
    "collapsed": false,
    "ExecuteTime": {
     "end_time": "2024-01-11T00:47:11.476723992Z",
     "start_time": "2024-01-11T00:47:11.201149850Z"
    }
   },
   "id": "7a1705066e25fe5f"
  },
  {
   "cell_type": "code",
   "execution_count": 204,
   "outputs": [],
   "source": [
    "# rename columns to spanish names in minuscule letters\n",
    "df.rename(columns={'dni': 'dni', 'date': 'fecha', 'name': 'empleado', 'checkin': 'entrada', 'checkout': 'salida', 'hour': 'horas', 'minute': 'minutos'}, inplace=True)"
   ],
   "metadata": {
    "collapsed": false,
    "ExecuteTime": {
     "end_time": "2024-01-11T00:47:11.548149212Z",
     "start_time": "2024-01-11T00:47:11.340471724Z"
    }
   },
   "id": "325310067454fe7d"
  },
  {
   "cell_type": "code",
   "execution_count": 207,
   "outputs": [
    {
     "data": {
      "text/plain": "            fecha                  empleado       dni      entrada  \\\n15241  04/12/2023  Romero Leon, Maria Anton  06927369  03:20:00 PM   \n15315  05/12/2023  Romero Leon, Maria Anton  06927369  03:19:00 PM   \n15411  06/12/2023  Romero Leon, Maria Anton  06927369  10:56:00 PM   \n15483  11/12/2023  Romero Leon, Maria Anton  06927369  03:22:00 PM   \n15556  12/12/2023  Romero Leon, Maria Anton  06927369  03:14:00 PM   \n\n            salida  horas  minutos  \n15241  11:04:00 PM    7.0     44.0  \n15315  10:42:00 PM    7.0     23.0  \n15411         None    NaN      NaN  \n15483  11:51:00 PM    8.0     29.0  \n15556  11:42:00 PM    8.0     28.0  ",
      "text/html": "<div>\n<style scoped>\n    .dataframe tbody tr th:only-of-type {\n        vertical-align: middle;\n    }\n\n    .dataframe tbody tr th {\n        vertical-align: top;\n    }\n\n    .dataframe thead th {\n        text-align: right;\n    }\n</style>\n<table border=\"1\" class=\"dataframe\">\n  <thead>\n    <tr style=\"text-align: right;\">\n      <th></th>\n      <th>fecha</th>\n      <th>empleado</th>\n      <th>dni</th>\n      <th>entrada</th>\n      <th>salida</th>\n      <th>horas</th>\n      <th>minutos</th>\n    </tr>\n  </thead>\n  <tbody>\n    <tr>\n      <th>15241</th>\n      <td>04/12/2023</td>\n      <td>Romero Leon, Maria Anton</td>\n      <td>06927369</td>\n      <td>03:20:00 PM</td>\n      <td>11:04:00 PM</td>\n      <td>7.0</td>\n      <td>44.0</td>\n    </tr>\n    <tr>\n      <th>15315</th>\n      <td>05/12/2023</td>\n      <td>Romero Leon, Maria Anton</td>\n      <td>06927369</td>\n      <td>03:19:00 PM</td>\n      <td>10:42:00 PM</td>\n      <td>7.0</td>\n      <td>23.0</td>\n    </tr>\n    <tr>\n      <th>15411</th>\n      <td>06/12/2023</td>\n      <td>Romero Leon, Maria Anton</td>\n      <td>06927369</td>\n      <td>10:56:00 PM</td>\n      <td>None</td>\n      <td>NaN</td>\n      <td>NaN</td>\n    </tr>\n    <tr>\n      <th>15483</th>\n      <td>11/12/2023</td>\n      <td>Romero Leon, Maria Anton</td>\n      <td>06927369</td>\n      <td>03:22:00 PM</td>\n      <td>11:51:00 PM</td>\n      <td>8.0</td>\n      <td>29.0</td>\n    </tr>\n    <tr>\n      <th>15556</th>\n      <td>12/12/2023</td>\n      <td>Romero Leon, Maria Anton</td>\n      <td>06927369</td>\n      <td>03:14:00 PM</td>\n      <td>11:42:00 PM</td>\n      <td>8.0</td>\n      <td>28.0</td>\n    </tr>\n  </tbody>\n</table>\n</div>"
     },
     "execution_count": 207,
     "metadata": {},
     "output_type": "execute_result"
    }
   ],
   "source": [
    "df.head()"
   ],
   "metadata": {
    "collapsed": false,
    "ExecuteTime": {
     "end_time": "2024-01-11T00:47:22.430516421Z",
     "start_time": "2024-01-11T00:47:22.401042412Z"
    }
   },
   "id": "fdd973f84952ef13"
  },
  {
   "cell_type": "code",
   "execution_count": 205,
   "outputs": [],
   "source": [
    "# group by employee(dni)\n",
    "grouped = df.groupby('dni')"
   ],
   "metadata": {
    "collapsed": false,
    "ExecuteTime": {
     "end_time": "2024-01-11T00:47:11.868027583Z",
     "start_time": "2024-01-11T00:47:11.522773386Z"
    }
   },
   "id": "7d18fb3b4e1ffa8b"
  },
  {
   "cell_type": "code",
   "execution_count": 206,
   "outputs": [],
   "source": [
    "from pandas import ExcelWriter\n",
    "\n",
    "# convert the group to excel, where each group is a sheet\n",
    "# and the sheet name is the firstname and between parenthesis the dni\n",
    "# the sheet name is limited to 31 characters\n",
    "\n",
    "# create Excel file\n",
    "writer = ExcelWriter('attendance.xlsx', engine='xlsxwriter')\n",
    "\n",
    "# iterate over the groups\n",
    "for name, group in grouped:\n",
    "    # get the first name\n",
    "    firstname = group['empleado'].iloc[0].split()[0]\n",
    "    # get the dni\n",
    "    dni = group['dni'].iloc[0]\n",
    "    # create the sheet name\n",
    "    sheet_name = f'{firstname} ({dni})'\n",
    "    # if the sheet name is longer than 31 characters, truncate it\n",
    "    if len(sheet_name) > 31:\n",
    "        sheet_name = sheet_name[:31]\n",
    "    # convert the group to excel\n",
    "    group.to_excel(writer, sheet_name=sheet_name, index=False)\n",
    "\n",
    "# save the Excel file\n",
    "writer.close()"
   ],
   "metadata": {
    "collapsed": false,
    "ExecuteTime": {
     "end_time": "2024-01-11T00:47:11.967605276Z",
     "start_time": "2024-01-11T00:47:11.796420152Z"
    }
   },
   "id": "7a87ce862b6db143"
  }
 ],
 "metadata": {
  "kernelspec": {
   "display_name": "Python 3",
   "language": "python",
   "name": "python3"
  },
  "language_info": {
   "codemirror_mode": {
    "name": "ipython",
    "version": 2
   },
   "file_extension": ".py",
   "mimetype": "text/x-python",
   "name": "python",
   "nbconvert_exporter": "python",
   "pygments_lexer": "ipython2",
   "version": "2.7.6"
  }
 },
 "nbformat": 4,
 "nbformat_minor": 5
}
